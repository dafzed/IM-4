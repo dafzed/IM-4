{
 "cells": [
  {
   "cell_type": "code",
   "execution_count": 3,
   "metadata": {},
   "outputs": [],
   "source": [
    "import pandas as pd\n",
    "import numpy as np\n",
    "import sklearn\n",
    "import matplotlib as mpl\n",
    "import seaborn as sns\n",
    "from numpy.random import randn\n",
    "from numpy.random import seed\n",
    "from scipy.stats import pearsonr\n",
    "import matplotlib.pyplot as plt\n",
    "from sklearn.preprocessing import StandardScaler\n",
    "from sklearn.pipeline import Pipeline\n",
    "from sklearn.model_selection import TimeSeriesSplit,GridSearchCV,cross_val_score, KFold\n",
    "from xgboost import XGBClassifier\n",
    "from xgboost import XGBRegressor\n",
    "from sklearn.metrics import mean_squared_error\n",
    "from sklearn.svm import SVR\n",
    "from sklearn.linear_model import ElasticNet\n",
    "from sklearn import metrics\n",
    "from sklearn.metrics import make_scorer\n",
    "from sklearn.ensemble import RandomForestRegressor\n",
    "from sklearn.preprocessing import PolynomialFeatures\n",
    "from sklearn.metrics import confusion_matrix\n",
    "from sklearn.metrics import precision_score\n",
    "from sklearn.metrics import recall_score\n",
    "from sklearn.metrics import accuracy_score\n",
    "from sklearn.model_selection import GridSearchCV"
   ]
  },
  {
   "cell_type": "code",
   "execution_count": 4,
   "metadata": {},
   "outputs": [],
   "source": [
    "# rmse\n",
    "def regression_result(y_true,y_pred):\n",
    "    mse=metrics.mean_squared_error(y_true, y_pred)\n",
    "    rmse=round(np.sqrt(mse),4)\n",
    "    return rmse\n",
    "    \n",
    "def rmse(actual, predict):\n",
    "    predict = np.array(predict)\n",
    "    actual = np.array(actual)\n",
    "    distance = predict - actual\n",
    "    square_distance = distance ** 2\n",
    "    mean_square_distance = square_distance.mean()\n",
    "    score = np.sqrt(mean_square_distance)\n",
    "    return score\n",
    "\n",
    "rmse_score = make_scorer(rmse, greater_is_better = False)"
   ]
  },
  {
   "cell_type": "code",
   "execution_count": 5,
   "metadata": {},
   "outputs": [],
   "source": [
    "df = pd.read_csv('DataML2.csv')"
   ]
  },
  {
   "cell_type": "code",
   "execution_count": 6,
   "metadata": {},
   "outputs": [],
   "source": [
    "df['period'] = pd.to_datetime(df['period'], format='%b-%y')\n"
   ]
  },
  {
   "cell_type": "code",
   "execution_count": 7,
   "metadata": {},
   "outputs": [],
   "source": [
    "df.index.name = None"
   ]
  },
  {
   "cell_type": "code",
   "execution_count": 8,
   "metadata": {},
   "outputs": [
    {
     "data": {
      "text/plain": [
       "Index(['period', 'gdprl', 'csplrl', 'csprl', 'cslrl', 'csgrl', 'invrl',\n",
       "       'xgsrl', 'mgsrl', 'inhrl', 'inbrl', 'retailsales', 'sukucadang',\n",
       "       'manminrok', 'bbm', 'gadget', 'perlengkapanrt', 'barangbudaya',\n",
       "       'baranglain', 'barangsandang', 'onlinesales', 'onlinetranspr',\n",
       "       'mobilsales', 'motorsales', 'konsumsiskn', 'tariktunai', 'belanjadebet',\n",
       "       'tariktunaicc', 'ntp', 'wageburuh', 'wageart', 'wagebarber',\n",
       "       'wagetukang', 'ihsg', 'yield1y', 'IHPRsekunder', 'DPKindividu',\n",
       "       'KreditKonsumsi', 'JobVacancy', 'IKK', 'IKE', 'IEK', 'jalantolgol1',\n",
       "       'inflasipendidikan', 'inflasikesehatan', 'devisa_transpor',\n",
       "       'devisa_travel', 'semensales', 'imporkonstruksi', 'orderbook',\n",
       "       'voltraffgol3', 'voltraffgol5', 'presalesprop', 'pmi', 'salesalatberat',\n",
       "       'kredit_mk', 'kredit_inv', 'voltraffgol4', 'rtgs', 'prod_motor',\n",
       "       'ekspor_nm_rl', 'impor_nm_rl', 'ekspor_nm_pi', 'impor_nm_pi',\n",
       "       'ekspor_mg_nl', 'impor_mg_nl', 'sup_valas_jl', 'sup_valas_bl',\n",
       "       'goog_retail', 'goog_groc', 'goog_parks', 'goog_transit', 'goog_work',\n",
       "       'goog_res', 'goog_avg', 'IPBK', 'IPAMM', 'ITP', 'IIK'],\n",
       "      dtype='object')"
      ]
     },
     "execution_count": 8,
     "metadata": {},
     "output_type": "execute_result"
    }
   ],
   "source": [
    "df.columns"
   ]
  },
  {
   "cell_type": "code",
   "execution_count": 9,
   "metadata": {},
   "outputs": [],
   "source": [
    "df = df.set_index('period')"
   ]
  },
  {
   "cell_type": "code",
   "execution_count": 10,
   "metadata": {},
   "outputs": [
    {
     "data": {
      "text/html": [
       "<div>\n",
       "<style scoped>\n",
       "    .dataframe tbody tr th:only-of-type {\n",
       "        vertical-align: middle;\n",
       "    }\n",
       "\n",
       "    .dataframe tbody tr th {\n",
       "        vertical-align: top;\n",
       "    }\n",
       "\n",
       "    .dataframe thead th {\n",
       "        text-align: right;\n",
       "    }\n",
       "</style>\n",
       "<table border=\"1\" class=\"dataframe\">\n",
       "  <thead>\n",
       "    <tr style=\"text-align: right;\">\n",
       "      <th></th>\n",
       "      <th>csplrl</th>\n",
       "      <th>invrl</th>\n",
       "      <th>mgsrl</th>\n",
       "      <th>inbrl</th>\n",
       "    </tr>\n",
       "    <tr>\n",
       "      <th>period</th>\n",
       "      <th></th>\n",
       "      <th></th>\n",
       "      <th></th>\n",
       "      <th></th>\n",
       "    </tr>\n",
       "  </thead>\n",
       "  <tbody>\n",
       "    <tr>\n",
       "      <th>2012-01-01</th>\n",
       "      <td>5.780286</td>\n",
       "      <td>6.986212</td>\n",
       "      <td>11.053824</td>\n",
       "      <td>11.224086</td>\n",
       "    </tr>\n",
       "    <tr>\n",
       "      <th>2012-02-01</th>\n",
       "      <td>5.780286</td>\n",
       "      <td>6.986212</td>\n",
       "      <td>11.053824</td>\n",
       "      <td>11.224086</td>\n",
       "    </tr>\n",
       "    <tr>\n",
       "      <th>2012-03-01</th>\n",
       "      <td>5.780286</td>\n",
       "      <td>6.986212</td>\n",
       "      <td>11.053824</td>\n",
       "      <td>11.224086</td>\n",
       "    </tr>\n",
       "    <tr>\n",
       "      <th>2012-04-01</th>\n",
       "      <td>6.967163</td>\n",
       "      <td>10.131111</td>\n",
       "      <td>15.426255</td>\n",
       "      <td>19.656792</td>\n",
       "    </tr>\n",
       "    <tr>\n",
       "      <th>2012-05-01</th>\n",
       "      <td>6.967163</td>\n",
       "      <td>10.131111</td>\n",
       "      <td>15.426255</td>\n",
       "      <td>19.656792</td>\n",
       "    </tr>\n",
       "    <tr>\n",
       "      <th>...</th>\n",
       "      <td>...</td>\n",
       "      <td>...</td>\n",
       "      <td>...</td>\n",
       "      <td>...</td>\n",
       "    </tr>\n",
       "    <tr>\n",
       "      <th>2020-09-01</th>\n",
       "      <td>-4.001398</td>\n",
       "      <td>-6.479756</td>\n",
       "      <td>-23.003171</td>\n",
       "      <td>-8.989116</td>\n",
       "    </tr>\n",
       "    <tr>\n",
       "      <th>2020-10-01</th>\n",
       "      <td>-3.582511</td>\n",
       "      <td>-6.151957</td>\n",
       "      <td>-13.517052</td>\n",
       "      <td>-4.708003</td>\n",
       "    </tr>\n",
       "    <tr>\n",
       "      <th>2020-11-01</th>\n",
       "      <td>-3.582511</td>\n",
       "      <td>-6.151957</td>\n",
       "      <td>-13.517052</td>\n",
       "      <td>-4.708003</td>\n",
       "    </tr>\n",
       "    <tr>\n",
       "      <th>2020-12-01</th>\n",
       "      <td>-3.582511</td>\n",
       "      <td>-6.151957</td>\n",
       "      <td>-13.517052</td>\n",
       "      <td>-4.708003</td>\n",
       "    </tr>\n",
       "    <tr>\n",
       "      <th>2021-01-01</th>\n",
       "      <td>NaN</td>\n",
       "      <td>NaN</td>\n",
       "      <td>NaN</td>\n",
       "      <td>NaN</td>\n",
       "    </tr>\n",
       "  </tbody>\n",
       "</table>\n",
       "<p>109 rows × 4 columns</p>\n",
       "</div>"
      ],
      "text/plain": [
       "              csplrl      invrl      mgsrl      inbrl\n",
       "period                                               \n",
       "2012-01-01  5.780286   6.986212  11.053824  11.224086\n",
       "2012-02-01  5.780286   6.986212  11.053824  11.224086\n",
       "2012-03-01  5.780286   6.986212  11.053824  11.224086\n",
       "2012-04-01  6.967163  10.131111  15.426255  19.656792\n",
       "2012-05-01  6.967163  10.131111  15.426255  19.656792\n",
       "...              ...        ...        ...        ...\n",
       "2020-09-01 -4.001398  -6.479756 -23.003171  -8.989116\n",
       "2020-10-01 -3.582511  -6.151957 -13.517052  -4.708003\n",
       "2020-11-01 -3.582511  -6.151957 -13.517052  -4.708003\n",
       "2020-12-01 -3.582511  -6.151957 -13.517052  -4.708003\n",
       "2021-01-01       NaN        NaN        NaN        NaN\n",
       "\n",
       "[109 rows x 4 columns]"
      ]
     },
     "execution_count": 10,
     "metadata": {},
     "output_type": "execute_result"
    }
   ],
   "source": [
    "#invrl, mgsrl, jalantolgol1, goog_retail, goog_parks, goog_transit, goog_avg\n",
    "data = df.drop(columns=['gdprl', 'csprl', 'cslrl', 'csgrl', 'xgsrl',\n",
    "       'inhrl', 'retailsales', 'sukucadang', 'manminrok', 'bbm',\n",
    "       'gadget', 'perlengkapanrt', 'barangbudaya', 'baranglain',\n",
    "       'barangsandang', 'onlinesales', 'onlinetranspr', 'mobilsales',\n",
    "       'motorsales', 'konsumsiskn', 'tariktunai', 'belanjadebet',\n",
    "       'tariktunaicc', 'ntp', 'wageburuh', 'wageart', 'wagebarber',\n",
    "       'wagetukang', 'ihsg', 'yield1y', 'IHPRsekunder', 'DPKindividu',\n",
    "       'KreditKonsumsi', 'JobVacancy', 'IKK', 'IKE', 'IEK',\n",
    "       'inflasipendidikan', 'inflasikesehatan', 'devisa_transpor',\n",
    "       'devisa_travel', 'semensales', 'imporkonstruksi', 'orderbook',\n",
    "       'voltraffgol3', 'voltraffgol5', 'presalesprop', 'pmi', 'salesalatberat',\n",
    "       'kredit_mk', 'kredit_inv', 'voltraffgol4', 'rtgs', 'prod_motor',\n",
    "       'ekspor_nm_rl', 'impor_nm_rl', 'ekspor_nm_pi', 'impor_nm_pi',\n",
    "       'ekspor_mg_nl', 'impor_mg_nl', 'sup_valas_jl', 'sup_valas_bl',\n",
    "       'goog_groc', 'goog_work', 'jalantolgol1','goog_retail','goog_parks',\n",
    "       'goog_res','IPBK', 'IPAMM', 'ITP', 'IIK','goog_transit','goog_avg'])\n",
    "data"
   ]
  },
  {
   "cell_type": "code",
   "execution_count": 11,
   "metadata": {},
   "outputs": [
    {
     "data": {
      "text/html": [
       "<div>\n",
       "<style scoped>\n",
       "    .dataframe tbody tr th:only-of-type {\n",
       "        vertical-align: middle;\n",
       "    }\n",
       "\n",
       "    .dataframe tbody tr th {\n",
       "        vertical-align: top;\n",
       "    }\n",
       "\n",
       "    .dataframe thead th {\n",
       "        text-align: right;\n",
       "    }\n",
       "</style>\n",
       "<table border=\"1\" class=\"dataframe\">\n",
       "  <thead>\n",
       "    <tr style=\"text-align: right;\">\n",
       "      <th></th>\n",
       "      <th>csplrl</th>\n",
       "      <th>invrl</th>\n",
       "      <th>mgsrl</th>\n",
       "      <th>inbrl</th>\n",
       "    </tr>\n",
       "    <tr>\n",
       "      <th>period</th>\n",
       "      <th></th>\n",
       "      <th></th>\n",
       "      <th></th>\n",
       "      <th></th>\n",
       "    </tr>\n",
       "  </thead>\n",
       "  <tbody>\n",
       "    <tr>\n",
       "      <th>2012-01-01</th>\n",
       "      <td>NaN</td>\n",
       "      <td>NaN</td>\n",
       "      <td>NaN</td>\n",
       "      <td>NaN</td>\n",
       "    </tr>\n",
       "    <tr>\n",
       "      <th>2012-02-01</th>\n",
       "      <td>NaN</td>\n",
       "      <td>NaN</td>\n",
       "      <td>NaN</td>\n",
       "      <td>NaN</td>\n",
       "    </tr>\n",
       "    <tr>\n",
       "      <th>2012-03-01</th>\n",
       "      <td>NaN</td>\n",
       "      <td>NaN</td>\n",
       "      <td>NaN</td>\n",
       "      <td>NaN</td>\n",
       "    </tr>\n",
       "    <tr>\n",
       "      <th>2012-04-01</th>\n",
       "      <td>NaN</td>\n",
       "      <td>NaN</td>\n",
       "      <td>NaN</td>\n",
       "      <td>NaN</td>\n",
       "    </tr>\n",
       "    <tr>\n",
       "      <th>2012-05-01</th>\n",
       "      <td>NaN</td>\n",
       "      <td>NaN</td>\n",
       "      <td>NaN</td>\n",
       "      <td>NaN</td>\n",
       "    </tr>\n",
       "    <tr>\n",
       "      <th>...</th>\n",
       "      <td>...</td>\n",
       "      <td>...</td>\n",
       "      <td>...</td>\n",
       "      <td>...</td>\n",
       "    </tr>\n",
       "    <tr>\n",
       "      <th>2020-09-01</th>\n",
       "      <td>-1.791276</td>\n",
       "      <td>-2.538582</td>\n",
       "      <td>1.756911</td>\n",
       "      <td>-5.619057</td>\n",
       "    </tr>\n",
       "    <tr>\n",
       "      <th>2020-10-01</th>\n",
       "      <td>-1.725825</td>\n",
       "      <td>-2.509009</td>\n",
       "      <td>0.711277</td>\n",
       "      <td>129.554946</td>\n",
       "    </tr>\n",
       "    <tr>\n",
       "      <th>2020-11-01</th>\n",
       "      <td>-1.725825</td>\n",
       "      <td>-2.509009</td>\n",
       "      <td>0.711277</td>\n",
       "      <td>129.554946</td>\n",
       "    </tr>\n",
       "    <tr>\n",
       "      <th>2020-12-01</th>\n",
       "      <td>-1.725825</td>\n",
       "      <td>-2.509009</td>\n",
       "      <td>0.711277</td>\n",
       "      <td>129.554946</td>\n",
       "    </tr>\n",
       "    <tr>\n",
       "      <th>2021-01-01</th>\n",
       "      <td>-2.354679</td>\n",
       "      <td>-4.612126</td>\n",
       "      <td>2.737972</td>\n",
       "      <td>2.223487</td>\n",
       "    </tr>\n",
       "  </tbody>\n",
       "</table>\n",
       "<p>109 rows × 4 columns</p>\n",
       "</div>"
      ],
      "text/plain": [
       "              csplrl     invrl     mgsrl       inbrl\n",
       "period                                              \n",
       "2012-01-01       NaN       NaN       NaN         NaN\n",
       "2012-02-01       NaN       NaN       NaN         NaN\n",
       "2012-03-01       NaN       NaN       NaN         NaN\n",
       "2012-04-01       NaN       NaN       NaN         NaN\n",
       "2012-05-01       NaN       NaN       NaN         NaN\n",
       "...              ...       ...       ...         ...\n",
       "2020-09-01 -1.791276 -2.538582  1.756911   -5.619057\n",
       "2020-10-01 -1.725825 -2.509009  0.711277  129.554946\n",
       "2020-11-01 -1.725825 -2.509009  0.711277  129.554946\n",
       "2020-12-01 -1.725825 -2.509009  0.711277  129.554946\n",
       "2021-01-01 -2.354679 -4.612126  2.737972    2.223487\n",
       "\n",
       "[109 rows x 4 columns]"
      ]
     },
     "execution_count": 11,
     "metadata": {},
     "output_type": "execute_result"
    }
   ],
   "source": [
    "data = data[data.columns].pct_change(periods=12)\n",
    "#data = data[data.columns].pct_change(period=12)\n",
    "data"
   ]
  },
  {
   "cell_type": "code",
   "execution_count": 12,
   "metadata": {},
   "outputs": [
    {
     "data": {
      "text/html": [
       "<div>\n",
       "<style scoped>\n",
       "    .dataframe tbody tr th:only-of-type {\n",
       "        vertical-align: middle;\n",
       "    }\n",
       "\n",
       "    .dataframe tbody tr th {\n",
       "        vertical-align: top;\n",
       "    }\n",
       "\n",
       "    .dataframe thead th {\n",
       "        text-align: right;\n",
       "    }\n",
       "</style>\n",
       "<table border=\"1\" class=\"dataframe\">\n",
       "  <thead>\n",
       "    <tr style=\"text-align: right;\">\n",
       "      <th></th>\n",
       "      <th>csplrl</th>\n",
       "      <th>invrl</th>\n",
       "      <th>mgsrl</th>\n",
       "      <th>inbrl</th>\n",
       "    </tr>\n",
       "    <tr>\n",
       "      <th>period</th>\n",
       "      <th></th>\n",
       "      <th></th>\n",
       "      <th></th>\n",
       "      <th></th>\n",
       "    </tr>\n",
       "  </thead>\n",
       "  <tbody>\n",
       "    <tr>\n",
       "      <th>2013-01-01</th>\n",
       "      <td>-0.063111</td>\n",
       "      <td>0.080363</td>\n",
       "      <td>-0.735963</td>\n",
       "      <td>-0.436028</td>\n",
       "    </tr>\n",
       "    <tr>\n",
       "      <th>2013-02-01</th>\n",
       "      <td>-0.063111</td>\n",
       "      <td>0.080363</td>\n",
       "      <td>-0.735963</td>\n",
       "      <td>-0.436028</td>\n",
       "    </tr>\n",
       "    <tr>\n",
       "      <th>2013-03-01</th>\n",
       "      <td>-0.063111</td>\n",
       "      <td>0.080363</td>\n",
       "      <td>-0.735963</td>\n",
       "      <td>-0.436028</td>\n",
       "    </tr>\n",
       "    <tr>\n",
       "      <th>2013-04-01</th>\n",
       "      <td>-0.270653</td>\n",
       "      <td>-0.479239</td>\n",
       "      <td>-0.942783</td>\n",
       "      <td>-1.069818</td>\n",
       "    </tr>\n",
       "    <tr>\n",
       "      <th>2013-05-01</th>\n",
       "      <td>-0.270653</td>\n",
       "      <td>-0.479239</td>\n",
       "      <td>-0.942783</td>\n",
       "      <td>-1.069818</td>\n",
       "    </tr>\n",
       "    <tr>\n",
       "      <th>...</th>\n",
       "      <td>...</td>\n",
       "      <td>...</td>\n",
       "      <td>...</td>\n",
       "      <td>...</td>\n",
       "    </tr>\n",
       "    <tr>\n",
       "      <th>2020-09-01</th>\n",
       "      <td>-1.791276</td>\n",
       "      <td>-2.538582</td>\n",
       "      <td>1.756911</td>\n",
       "      <td>-5.619057</td>\n",
       "    </tr>\n",
       "    <tr>\n",
       "      <th>2020-10-01</th>\n",
       "      <td>-1.725825</td>\n",
       "      <td>-2.509009</td>\n",
       "      <td>0.711277</td>\n",
       "      <td>129.554946</td>\n",
       "    </tr>\n",
       "    <tr>\n",
       "      <th>2020-11-01</th>\n",
       "      <td>-1.725825</td>\n",
       "      <td>-2.509009</td>\n",
       "      <td>0.711277</td>\n",
       "      <td>129.554946</td>\n",
       "    </tr>\n",
       "    <tr>\n",
       "      <th>2020-12-01</th>\n",
       "      <td>-1.725825</td>\n",
       "      <td>-2.509009</td>\n",
       "      <td>0.711277</td>\n",
       "      <td>129.554946</td>\n",
       "    </tr>\n",
       "    <tr>\n",
       "      <th>2021-01-01</th>\n",
       "      <td>-2.354679</td>\n",
       "      <td>-4.612126</td>\n",
       "      <td>2.737972</td>\n",
       "      <td>2.223487</td>\n",
       "    </tr>\n",
       "  </tbody>\n",
       "</table>\n",
       "<p>97 rows × 4 columns</p>\n",
       "</div>"
      ],
      "text/plain": [
       "              csplrl     invrl     mgsrl       inbrl\n",
       "period                                              \n",
       "2013-01-01 -0.063111  0.080363 -0.735963   -0.436028\n",
       "2013-02-01 -0.063111  0.080363 -0.735963   -0.436028\n",
       "2013-03-01 -0.063111  0.080363 -0.735963   -0.436028\n",
       "2013-04-01 -0.270653 -0.479239 -0.942783   -1.069818\n",
       "2013-05-01 -0.270653 -0.479239 -0.942783   -1.069818\n",
       "...              ...       ...       ...         ...\n",
       "2020-09-01 -1.791276 -2.538582  1.756911   -5.619057\n",
       "2020-10-01 -1.725825 -2.509009  0.711277  129.554946\n",
       "2020-11-01 -1.725825 -2.509009  0.711277  129.554946\n",
       "2020-12-01 -1.725825 -2.509009  0.711277  129.554946\n",
       "2021-01-01 -2.354679 -4.612126  2.737972    2.223487\n",
       "\n",
       "[97 rows x 4 columns]"
      ]
     },
     "execution_count": 12,
     "metadata": {},
     "output_type": "execute_result"
    }
   ],
   "source": [
    "data = data.dropna()\n",
    "data"
   ]
  },
  {
   "cell_type": "code",
   "execution_count": 13,
   "metadata": {
    "scrolled": true
   },
   "outputs": [
    {
     "data": {
      "text/plain": [
       "array([[ 2.18741340e-01,  4.21709638e-01, -7.39867100e-02,\n",
       "        -1.76080482e-01],\n",
       "       [ 2.18741340e-01,  4.21709638e-01, -7.39867100e-02,\n",
       "        -1.76080482e-01],\n",
       "       [ 2.18741340e-01,  4.21709638e-01, -7.39867100e-02,\n",
       "        -1.76080482e-01],\n",
       "       [-1.18068601e-01, -1.62071843e-01, -8.84659333e-02,\n",
       "        -2.04023300e-01],\n",
       "       [-1.18068601e-01, -1.62071843e-01, -8.84659333e-02,\n",
       "        -2.04023300e-01],\n",
       "       [-1.18068601e-01, -1.62071843e-01, -8.84659333e-02,\n",
       "        -2.04023300e-01],\n",
       "       [ 9.40046976e-01, -8.27077280e-02,  6.00255943e-01,\n",
       "        -1.94369543e-01],\n",
       "       [ 9.40046976e-01, -8.27077280e-02,  6.00255943e-01,\n",
       "        -1.94369543e-01],\n",
       "       [ 9.40046976e-01, -8.27077280e-02,  6.00255943e-01,\n",
       "        -1.94369543e-01],\n",
       "       [ 8.41988915e-01, -4.93092342e-01, -1.02682642e-01,\n",
       "        -2.22073340e-01],\n",
       "       [ 8.41988915e-01, -4.93092342e-01, -1.02682642e-01,\n",
       "        -2.22073340e-01],\n",
       "       [ 8.41988915e-01, -4.93092342e-01, -1.02682642e-01,\n",
       "        -2.22073340e-01],\n",
       "       [ 3.83349730e-01,  4.66997488e-02,  2.89119803e-02,\n",
       "        -1.64283346e-01],\n",
       "       [ 3.83349730e-01,  4.66997488e-02,  2.89119803e-02,\n",
       "        -1.64283346e-01],\n",
       "       [ 3.83349730e-01,  4.66997488e-02,  2.89119803e-02,\n",
       "        -1.64283346e-01],\n",
       "       [ 1.31834432e-01,  8.90539108e-02, -5.86969053e-02,\n",
       "        -2.54166928e-01],\n",
       "       [ 1.31834432e-01,  8.90539108e-02, -5.86969053e-02,\n",
       "        -2.54166928e-01],\n",
       "       [ 1.31834432e-01,  8.90539108e-02, -5.86969053e-02,\n",
       "        -2.54166928e-01],\n",
       "       [-9.59287495e-02,  9.93577168e-02, -8.95186829e-02,\n",
       "        -9.39211909e-02],\n",
       "       [-9.59287495e-02,  9.93577168e-02, -8.95186829e-02,\n",
       "        -9.39211909e-02],\n",
       "       [-9.59287495e-02,  9.93577168e-02, -8.95186829e-02,\n",
       "        -9.39211909e-02],\n",
       "       [-1.33559051e-01,  1.42027747e+00, -3.36975016e-01,\n",
       "        -1.43137347e-01],\n",
       "       [-1.33559051e-01,  1.42027747e+00, -3.36975016e-01,\n",
       "        -1.43137347e-01],\n",
       "       [-1.33559051e-01,  1.42027747e+00, -3.36975016e-01,\n",
       "        -1.43137347e-01],\n",
       "       [ 3.48751223e-03,  1.75325711e-01, -1.28210201e-01,\n",
       "        -1.87426839e-01],\n",
       "       [ 3.48751223e-03,  1.75325711e-01, -1.28210201e-01,\n",
       "        -1.87426839e-01],\n",
       "       [ 3.48751223e-03,  1.75325711e-01, -1.28210201e-01,\n",
       "        -1.87426839e-01],\n",
       "       [ 2.95041053e-01,  3.33701315e-01, -1.25524098e+00,\n",
       "        -1.46778302e-01],\n",
       "       [ 2.95041053e-01,  3.33701315e-01, -1.25524098e+00,\n",
       "        -1.46778302e-01],\n",
       "       [ 2.95041053e-01,  3.33701315e-01, -1.25524098e+00,\n",
       "        -1.46778302e-01],\n",
       "       [ 5.52301946e-01,  4.76383384e-01, -2.27042719e+00,\n",
       "        -1.82517599e-01],\n",
       "       [ 5.52301946e-01,  4.76383384e-01, -2.27042719e+00,\n",
       "        -1.82517599e-01],\n",
       "       [ 5.52301946e-01,  4.76383384e-01, -2.27042719e+00,\n",
       "        -1.82517599e-01],\n",
       "       [ 7.53399833e-01,  9.48716289e-01, -2.95127260e-01,\n",
       "        -2.27895400e-01],\n",
       "       [ 7.53399833e-01,  9.48716289e-01, -2.95127260e-01,\n",
       "        -2.27895400e-01],\n",
       "       [ 7.53399833e-01,  9.48716289e-01, -2.95127260e-01,\n",
       "        -2.27895400e-01],\n",
       "       [ 4.32868960e-01,  3.55208482e-01,  4.24926983e-02,\n",
       "        -2.33914985e-01],\n",
       "       [ 4.32868960e-01,  3.55208482e-01,  4.24926983e-02,\n",
       "        -2.33914985e-01],\n",
       "       [ 4.32868960e-01,  3.55208482e-01,  4.24926983e-02,\n",
       "        -2.33914985e-01],\n",
       "       [ 6.32018102e-01,  3.84442237e-01, -5.85527488e-02,\n",
       "        -1.64341664e-01],\n",
       "       [ 6.32018102e-01,  3.84442237e-01, -5.85527488e-02,\n",
       "        -1.64341664e-01],\n",
       "       [ 6.32018102e-01,  3.84442237e-01, -5.85527488e-02,\n",
       "        -1.64341664e-01],\n",
       "       [-6.92377173e-02,  1.91730398e-01, -4.81839869e-02,\n",
       "        -1.42768547e-01],\n",
       "       [-6.92377173e-02,  1.91730398e-01, -4.81839869e-02,\n",
       "        -1.42768547e-01],\n",
       "       [-6.92377173e-02,  1.91730398e-01, -4.81839869e-02,\n",
       "        -1.42768547e-01],\n",
       "       [-2.64574509e-01,  7.24842422e-02, -1.14756417e-01,\n",
       "        -7.41414178e-02],\n",
       "       [-2.64574509e-01,  7.24842422e-02, -1.14756417e-01,\n",
       "        -7.41414178e-02],\n",
       "       [-2.64574509e-01,  7.24842422e-02, -1.14756417e-01,\n",
       "        -7.41414178e-02],\n",
       "       [ 3.73328555e-01,  3.60103937e-01, -1.60180740e-01,\n",
       "        -2.54207992e-01],\n",
       "       [ 3.73328555e-01,  3.60103937e-01, -1.60180740e-01,\n",
       "        -2.54207992e-01],\n",
       "       [ 3.73328555e-01,  3.60103937e-01, -1.60180740e-01,\n",
       "        -2.54207992e-01],\n",
       "       [ 2.43939570e-01,  6.28484424e-01, -9.67715608e-02,\n",
       "        -1.16275368e-01],\n",
       "       [ 2.43939570e-01,  6.28484424e-01, -9.67715608e-02,\n",
       "        -1.16275368e-01],\n",
       "       [ 2.43939570e-01,  6.28484424e-01, -9.67715608e-02,\n",
       "        -1.16275368e-01],\n",
       "       [ 7.03482813e-01,  1.03764053e+00, -3.56321002e-01,\n",
       "        -6.71657712e-03],\n",
       "       [ 7.03482813e-01,  1.03764053e+00, -3.56321002e-01,\n",
       "        -6.71657712e-03],\n",
       "       [ 7.03482813e-01,  1.03764053e+00, -3.56321002e-01,\n",
       "        -6.71657712e-03],\n",
       "       [ 1.06662528e+00,  8.75569024e-01,  2.10220460e-01,\n",
       "        -1.44419425e-01],\n",
       "       [ 1.06662528e+00,  8.75569024e-01,  2.10220460e-01,\n",
       "        -1.44419425e-01],\n",
       "       [ 1.06662528e+00,  8.75569024e-01,  2.10220460e-01,\n",
       "        -1.44419425e-01],\n",
       "       [ 3.31768208e-01,  1.02725956e+00,  8.98671340e-02,\n",
       "         2.09021414e-01],\n",
       "       [ 3.31768208e-01,  1.02725956e+00,  8.98671340e-02,\n",
       "         2.09021414e-01],\n",
       "       [ 3.31768208e-01,  1.02725956e+00,  8.98671340e-02,\n",
       "         2.09021414e-01],\n",
       "       [ 3.97391203e-01,  4.27964035e-01,  4.96393220e+00,\n",
       "        -8.77471273e-02],\n",
       "       [ 3.97391203e-01,  4.27964035e-01,  4.96393220e+00,\n",
       "        -8.77471273e-02],\n",
       "       [ 3.97391203e-01,  4.27964035e-01,  4.96393220e+00,\n",
       "        -8.77471273e-02],\n",
       "       [ 3.67626809e-01,  3.13844463e-01, -2.82070818e-02,\n",
       "        -1.50977164e-01],\n",
       "       [ 3.67626809e-01,  3.13844463e-01, -2.82070818e-02,\n",
       "        -1.50977164e-01],\n",
       "       [ 3.67626809e-01,  3.13844463e-01, -2.82070818e-02,\n",
       "        -1.50977164e-01],\n",
       "       [ 3.88974590e-01,  1.75871302e-01, -4.89685997e-02,\n",
       "        -1.54791234e-01],\n",
       "       [ 3.88974590e-01,  1.75871302e-01, -4.89685997e-02,\n",
       "        -1.54791234e-01],\n",
       "       [ 3.88974590e-01,  1.75871302e-01, -4.89685997e-02,\n",
       "        -1.54791234e-01],\n",
       "       [ 4.00478226e-01, -4.32585875e-02, -1.28579640e-01,\n",
       "        -1.88958402e-01],\n",
       "       [ 4.00478226e-01, -4.32585875e-02, -1.28579640e-01,\n",
       "        -1.88958402e-01],\n",
       "       [ 4.00478226e-01, -4.32585875e-02, -1.28579640e-01,\n",
       "        -1.88958402e-01],\n",
       "       [ 3.67026640e-01,  1.13012353e-01, -1.23453751e-01,\n",
       "        -1.90600542e-01],\n",
       "       [ 3.67026640e-01,  1.13012353e-01, -1.23453751e-01,\n",
       "        -1.90600542e-01],\n",
       "       [ 3.67026640e-01,  1.13012353e-01, -1.23453751e-01,\n",
       "        -1.90600542e-01],\n",
       "       [ 3.14904359e-01, -7.03045125e-02, -1.33724436e-01,\n",
       "        -1.92951173e-01],\n",
       "       [ 3.14904359e-01, -7.03045125e-02, -1.33724436e-01,\n",
       "        -1.92951173e-01],\n",
       "       [ 3.14904359e-01, -7.03045125e-02, -1.33724436e-01,\n",
       "        -1.92951173e-01],\n",
       "       [ 2.38589298e-01, -1.22491491e-02, -1.67472591e-01,\n",
       "        -2.01113422e-01],\n",
       "       [ 2.38589298e-01, -1.22491491e-02, -1.67472591e-01,\n",
       "        -2.01113422e-01],\n",
       "       [ 2.38589298e-01, -1.22491491e-02, -1.67472591e-01,\n",
       "        -2.01113422e-01],\n",
       "       [-4.86863409e-01, -3.51882737e-01, -5.33420719e-02,\n",
       "        -2.18413515e-01],\n",
       "       [-4.86863409e-01, -3.51882737e-01, -5.33420719e-02,\n",
       "        -2.18413515e-01],\n",
       "       [-4.86863409e-01, -3.51882737e-01, -5.33420719e-02,\n",
       "        -2.18413515e-01],\n",
       "       [-2.97886764e+00, -2.67814425e+00,  9.78885148e-02,\n",
       "        -6.20832616e-01],\n",
       "       [-2.97886764e+00, -2.67814425e+00,  9.78885148e-02,\n",
       "        -6.20832616e-01],\n",
       "       [-2.97886764e+00, -2.67814425e+00,  9.78885148e-02,\n",
       "        -6.20832616e-01],\n",
       "       [-2.58581134e+00, -2.31039998e+00,  1.00537152e-01,\n",
       "        -4.04592349e-01],\n",
       "       [-2.58581134e+00, -2.31039998e+00,  1.00537152e-01,\n",
       "        -4.04592349e-01],\n",
       "       [-2.58581134e+00, -2.31039998e+00,  1.00537152e-01,\n",
       "        -4.04592349e-01],\n",
       "       [-2.47959349e+00, -2.27954861e+00,  2.73332892e-02,\n",
       "         5.55502455e+00],\n",
       "       [-2.47959349e+00, -2.27954861e+00,  2.73332892e-02,\n",
       "         5.55502455e+00],\n",
       "       [-2.47959349e+00, -2.27954861e+00,  2.73332892e-02,\n",
       "         5.55502455e+00],\n",
       "       [-3.50012950e+00, -4.47354129e+00,  1.69220327e-01,\n",
       "        -5.88264894e-02]])"
      ]
     },
     "execution_count": 13,
     "metadata": {},
     "output_type": "execute_result"
    }
   ],
   "source": [
    "scal = StandardScaler()\n",
    "scaler = scal.fit_transform(data.values)\n",
    "scaler"
   ]
  },
  {
   "cell_type": "code",
   "execution_count": 14,
   "metadata": {
    "scrolled": true
   },
   "outputs": [
    {
     "data": {
      "text/html": [
       "<div>\n",
       "<style scoped>\n",
       "    .dataframe tbody tr th:only-of-type {\n",
       "        vertical-align: middle;\n",
       "    }\n",
       "\n",
       "    .dataframe tbody tr th {\n",
       "        vertical-align: top;\n",
       "    }\n",
       "\n",
       "    .dataframe thead th {\n",
       "        text-align: right;\n",
       "    }\n",
       "</style>\n",
       "<table border=\"1\" class=\"dataframe\">\n",
       "  <thead>\n",
       "    <tr style=\"text-align: right;\">\n",
       "      <th></th>\n",
       "      <th>csplrl</th>\n",
       "      <th>invrl</th>\n",
       "      <th>mgsrl</th>\n",
       "      <th>inbrl</th>\n",
       "    </tr>\n",
       "    <tr>\n",
       "      <th>period</th>\n",
       "      <th></th>\n",
       "      <th></th>\n",
       "      <th></th>\n",
       "      <th></th>\n",
       "    </tr>\n",
       "  </thead>\n",
       "  <tbody>\n",
       "    <tr>\n",
       "      <th>2013-01-01</th>\n",
       "      <td>0.218741</td>\n",
       "      <td>0.421710</td>\n",
       "      <td>-0.073987</td>\n",
       "      <td>-0.176080</td>\n",
       "    </tr>\n",
       "    <tr>\n",
       "      <th>2013-02-01</th>\n",
       "      <td>0.218741</td>\n",
       "      <td>0.421710</td>\n",
       "      <td>-0.073987</td>\n",
       "      <td>-0.176080</td>\n",
       "    </tr>\n",
       "    <tr>\n",
       "      <th>2013-03-01</th>\n",
       "      <td>0.218741</td>\n",
       "      <td>0.421710</td>\n",
       "      <td>-0.073987</td>\n",
       "      <td>-0.176080</td>\n",
       "    </tr>\n",
       "    <tr>\n",
       "      <th>2013-04-01</th>\n",
       "      <td>-0.118069</td>\n",
       "      <td>-0.162072</td>\n",
       "      <td>-0.088466</td>\n",
       "      <td>-0.204023</td>\n",
       "    </tr>\n",
       "    <tr>\n",
       "      <th>2013-05-01</th>\n",
       "      <td>-0.118069</td>\n",
       "      <td>-0.162072</td>\n",
       "      <td>-0.088466</td>\n",
       "      <td>-0.204023</td>\n",
       "    </tr>\n",
       "    <tr>\n",
       "      <th>...</th>\n",
       "      <td>...</td>\n",
       "      <td>...</td>\n",
       "      <td>...</td>\n",
       "      <td>...</td>\n",
       "    </tr>\n",
       "    <tr>\n",
       "      <th>2020-09-01</th>\n",
       "      <td>-2.585811</td>\n",
       "      <td>-2.310400</td>\n",
       "      <td>0.100537</td>\n",
       "      <td>-0.404592</td>\n",
       "    </tr>\n",
       "    <tr>\n",
       "      <th>2020-10-01</th>\n",
       "      <td>-2.479593</td>\n",
       "      <td>-2.279549</td>\n",
       "      <td>0.027333</td>\n",
       "      <td>5.555025</td>\n",
       "    </tr>\n",
       "    <tr>\n",
       "      <th>2020-11-01</th>\n",
       "      <td>-2.479593</td>\n",
       "      <td>-2.279549</td>\n",
       "      <td>0.027333</td>\n",
       "      <td>5.555025</td>\n",
       "    </tr>\n",
       "    <tr>\n",
       "      <th>2020-12-01</th>\n",
       "      <td>-2.479593</td>\n",
       "      <td>-2.279549</td>\n",
       "      <td>0.027333</td>\n",
       "      <td>5.555025</td>\n",
       "    </tr>\n",
       "    <tr>\n",
       "      <th>2021-01-01</th>\n",
       "      <td>-3.500129</td>\n",
       "      <td>-4.473541</td>\n",
       "      <td>0.169220</td>\n",
       "      <td>-0.058826</td>\n",
       "    </tr>\n",
       "  </tbody>\n",
       "</table>\n",
       "<p>97 rows × 4 columns</p>\n",
       "</div>"
      ],
      "text/plain": [
       "              csplrl     invrl     mgsrl     inbrl\n",
       "period                                            \n",
       "2013-01-01  0.218741  0.421710 -0.073987 -0.176080\n",
       "2013-02-01  0.218741  0.421710 -0.073987 -0.176080\n",
       "2013-03-01  0.218741  0.421710 -0.073987 -0.176080\n",
       "2013-04-01 -0.118069 -0.162072 -0.088466 -0.204023\n",
       "2013-05-01 -0.118069 -0.162072 -0.088466 -0.204023\n",
       "...              ...       ...       ...       ...\n",
       "2020-09-01 -2.585811 -2.310400  0.100537 -0.404592\n",
       "2020-10-01 -2.479593 -2.279549  0.027333  5.555025\n",
       "2020-11-01 -2.479593 -2.279549  0.027333  5.555025\n",
       "2020-12-01 -2.479593 -2.279549  0.027333  5.555025\n",
       "2021-01-01 -3.500129 -4.473541  0.169220 -0.058826\n",
       "\n",
       "[97 rows x 4 columns]"
      ]
     },
     "execution_count": 14,
     "metadata": {},
     "output_type": "execute_result"
    }
   ],
   "source": [
    "data = pd.DataFrame(scaler, columns = data.columns, index = data.index)\n",
    "data"
   ]
  },
  {
   "cell_type": "code",
   "execution_count": 15,
   "metadata": {},
   "outputs": [
    {
     "data": {
      "text/html": [
       "<div>\n",
       "<style scoped>\n",
       "    .dataframe tbody tr th:only-of-type {\n",
       "        vertical-align: middle;\n",
       "    }\n",
       "\n",
       "    .dataframe tbody tr th {\n",
       "        vertical-align: top;\n",
       "    }\n",
       "\n",
       "    .dataframe thead th {\n",
       "        text-align: right;\n",
       "    }\n",
       "</style>\n",
       "<table border=\"1\" class=\"dataframe\">\n",
       "  <thead>\n",
       "    <tr style=\"text-align: right;\">\n",
       "      <th></th>\n",
       "      <th>csplrl</th>\n",
       "      <th>invrl</th>\n",
       "      <th>mgsrl</th>\n",
       "      <th>inbrl</th>\n",
       "    </tr>\n",
       "    <tr>\n",
       "      <th>period</th>\n",
       "      <th></th>\n",
       "      <th></th>\n",
       "      <th></th>\n",
       "      <th></th>\n",
       "    </tr>\n",
       "  </thead>\n",
       "  <tbody>\n",
       "    <tr>\n",
       "      <th>2013-01-01</th>\n",
       "      <td>0.218741</td>\n",
       "      <td>0.421710</td>\n",
       "      <td>-0.073987</td>\n",
       "      <td>-0.176080</td>\n",
       "    </tr>\n",
       "    <tr>\n",
       "      <th>2013-02-01</th>\n",
       "      <td>0.218741</td>\n",
       "      <td>0.421710</td>\n",
       "      <td>-0.073987</td>\n",
       "      <td>-0.176080</td>\n",
       "    </tr>\n",
       "    <tr>\n",
       "      <th>2013-03-01</th>\n",
       "      <td>0.218741</td>\n",
       "      <td>0.421710</td>\n",
       "      <td>-0.073987</td>\n",
       "      <td>-0.176080</td>\n",
       "    </tr>\n",
       "    <tr>\n",
       "      <th>2013-04-01</th>\n",
       "      <td>-0.118069</td>\n",
       "      <td>-0.162072</td>\n",
       "      <td>-0.088466</td>\n",
       "      <td>-0.204023</td>\n",
       "    </tr>\n",
       "    <tr>\n",
       "      <th>2013-05-01</th>\n",
       "      <td>-0.118069</td>\n",
       "      <td>-0.162072</td>\n",
       "      <td>-0.088466</td>\n",
       "      <td>-0.204023</td>\n",
       "    </tr>\n",
       "    <tr>\n",
       "      <th>...</th>\n",
       "      <td>...</td>\n",
       "      <td>...</td>\n",
       "      <td>...</td>\n",
       "      <td>...</td>\n",
       "    </tr>\n",
       "    <tr>\n",
       "      <th>2020-09-01</th>\n",
       "      <td>-2.585811</td>\n",
       "      <td>-2.310400</td>\n",
       "      <td>0.100537</td>\n",
       "      <td>-0.404592</td>\n",
       "    </tr>\n",
       "    <tr>\n",
       "      <th>2020-10-01</th>\n",
       "      <td>-2.479593</td>\n",
       "      <td>-2.279549</td>\n",
       "      <td>0.027333</td>\n",
       "      <td>5.555025</td>\n",
       "    </tr>\n",
       "    <tr>\n",
       "      <th>2020-11-01</th>\n",
       "      <td>-2.479593</td>\n",
       "      <td>-2.279549</td>\n",
       "      <td>0.027333</td>\n",
       "      <td>5.555025</td>\n",
       "    </tr>\n",
       "    <tr>\n",
       "      <th>2020-12-01</th>\n",
       "      <td>-2.479593</td>\n",
       "      <td>-2.279549</td>\n",
       "      <td>0.027333</td>\n",
       "      <td>5.555025</td>\n",
       "    </tr>\n",
       "    <tr>\n",
       "      <th>2021-01-01</th>\n",
       "      <td>-3.500129</td>\n",
       "      <td>-4.473541</td>\n",
       "      <td>0.169220</td>\n",
       "      <td>-0.058826</td>\n",
       "    </tr>\n",
       "  </tbody>\n",
       "</table>\n",
       "<p>97 rows × 4 columns</p>\n",
       "</div>"
      ],
      "text/plain": [
       "              csplrl     invrl     mgsrl     inbrl\n",
       "period                                            \n",
       "2013-01-01  0.218741  0.421710 -0.073987 -0.176080\n",
       "2013-02-01  0.218741  0.421710 -0.073987 -0.176080\n",
       "2013-03-01  0.218741  0.421710 -0.073987 -0.176080\n",
       "2013-04-01 -0.118069 -0.162072 -0.088466 -0.204023\n",
       "2013-05-01 -0.118069 -0.162072 -0.088466 -0.204023\n",
       "...              ...       ...       ...       ...\n",
       "2020-09-01 -2.585811 -2.310400  0.100537 -0.404592\n",
       "2020-10-01 -2.479593 -2.279549  0.027333  5.555025\n",
       "2020-11-01 -2.479593 -2.279549  0.027333  5.555025\n",
       "2020-12-01 -2.479593 -2.279549  0.027333  5.555025\n",
       "2021-01-01 -3.500129 -4.473541  0.169220 -0.058826\n",
       "\n",
       "[97 rows x 4 columns]"
      ]
     },
     "execution_count": 15,
     "metadata": {},
     "output_type": "execute_result"
    }
   ],
   "source": [
    "data = data.fillna(method = 'pad')\n",
    "data"
   ]
  },
  {
   "cell_type": "code",
   "execution_count": 16,
   "metadata": {},
   "outputs": [
    {
     "data": {
      "text/plain": [
       "Text(0.5, 1.0, 'inbrl')"
      ]
     },
     "execution_count": 16,
     "metadata": {},
     "output_type": "execute_result"
    },
    {
     "data": {
      "image/png": "[encoded data removed]",
      "text/plain": [
       "<Figure size 1080x648 with 1 Axes>"
      ]
     },
     "metadata": {
      "needs_background": "light"
     },
     "output_type": "display_data"
    }
   ],
   "source": [
    "fig, ax = plt.subplots(figsize = (15,9))\n",
    "col = data.columns\n",
    "for i in data.columns:\n",
    "    ax.plot(data[i],label=i)\n",
    "ax.legend()\n",
    "ax.set_xlabel('Year')\n",
    "ax.set_title('inbrl')"
   ]
  },
  {
   "cell_type": "code",
   "execution_count": 17,
   "metadata": {},
   "outputs": [],
   "source": [
    "x_train = data[:'2020-06-01'].drop(['inbrl'], axis = 1)\n",
    "y_train = data.loc[:'2020-06-01', 'inbrl']\n",
    "x_test = data['2020-07-01':'2021-01-01'].drop(['inbrl'], axis = 1)\n",
    "y_test = data.loc['2020-07-01':'2021-01-01', 'inbrl']"
   ]
  },
  {
   "cell_type": "code",
   "execution_count": 18,
   "metadata": {},
   "outputs": [],
   "source": [
    "trans = PolynomialFeatures(degree=2, interaction_only=True, include_bias=False)\n",
    "x_train_poly = trans.fit_transform(x_train)\n",
    "x_test_poly = trans.fit_transform(x_test)"
   ]
  },
  {
   "cell_type": "code",
   "execution_count": 19,
   "metadata": {},
   "outputs": [],
   "source": [
    "column_xtrain = trans.get_feature_names(x_train.columns)\n",
    "column_xtest = trans.get_feature_names(x_test.columns)"
   ]
  },
  {
   "cell_type": "code",
   "execution_count": 20,
   "metadata": {},
   "outputs": [],
   "source": [
    "x_train_model = pd.DataFrame(x_train_poly, columns = column_xtrain, index = x_train.index)\n",
    "x_test_model = pd.DataFrame(x_test_poly, columns = column_xtest, index = x_test.index)"
   ]
  },
  {
   "cell_type": "code",
   "execution_count": 21,
   "metadata": {},
   "outputs": [],
   "source": [
    "tscv = TimeSeriesSplit(n_splits=11)"
   ]
  },
  {
   "cell_type": "markdown",
   "metadata": {},
   "source": [
    "# Elastic Net"
   ]
  },
  {
   "cell_type": "code",
   "execution_count": 29,
   "metadata": {},
   "outputs": [],
   "source": [
    "parameter_elastic={\n",
    "    'elastic__alpha':[1e-9,1e-8,1e-7,1e-6,1e-5,1e-4,1e-3,1e-2,0.1,0.2,0.3,0.4,0.5,1,2,3,4,5,6,7,8,9],\n",
    "    'elastic__l1_ratio':[1e-9,1e-8,1e-7,1e-6,1e-5,1e-4,1e-3,1e-2,0.1,0.2,0.3,0.4,0.5,0.6,0.7,0.8,0.9],\n",
    "    'elastic__tol':[0.1,0.2,0.3,0.4,0.5,0.6,0.7,0.8,0.9,1],\n",
    "}"
   ]
  },
  {
   "cell_type": "code",
   "execution_count": 30,
   "metadata": {},
   "outputs": [],
   "source": [
    "pipe_elastic = Pipeline([('elastic', ElasticNet())])"
   ]
  },
  {
   "cell_type": "code",
   "execution_count": 31,
   "metadata": {},
   "outputs": [],
   "source": [
    "grid_search_elastic = GridSearchCV(pipe_elastic, parameter_elastic, cv=tscv, n_jobs=-1, scoring=rmse_score)\n",
    "grid_search_elastic.fit(x_train, y_train)\n",
    "best_score_elastic = grid_search_elastic.best_score_\n",
    "best_model_elastic = grid_search_elastic.best_estimator_"
   ]
  },
  {
   "cell_type": "code",
   "execution_count": 32,
   "metadata": {},
   "outputs": [
    {
     "data": {
      "text/plain": [
       "-0.08041702897501414"
      ]
     },
     "execution_count": 32,
     "metadata": {},
     "output_type": "execute_result"
    }
   ],
   "source": [
    "best_score_elastic"
   ]
  },
  {
   "cell_type": "code",
   "execution_count": 33,
   "metadata": {},
   "outputs": [
    {
     "data": {
      "text/plain": [
       "Pipeline(steps=[('elastic', ElasticNet(alpha=0.001, l1_ratio=0.9, tol=0.2))])"
      ]
     },
     "execution_count": 33,
     "metadata": {},
     "output_type": "execute_result"
    }
   ],
   "source": [
    "best_model_elastic"
   ]
  },
  {
   "cell_type": "code",
   "execution_count": 22,
   "metadata": {},
   "outputs": [
    {
     "name": "stdout",
     "output_type": "stream",
     "text": [
      "rmse training =  0.07481485354215929 \n",
      "rmse testing =  4.007826040007052\n"
     ]
    },
    {
     "data": {
      "image/png": "[encoded data removed]",
      "text/plain": [
       "<Figure size 1080x648 with 1 Axes>"
      ]
     },
     "metadata": {
      "needs_background": "light"
     },
     "output_type": "display_data"
    }
   ],
   "source": [
    "# Elastic Net\n",
    "# model running\n",
    "elnet = ElasticNet(alpha=0.001, l1_ratio=0.9, tol=0.2)\n",
    "elnet_train = elnet.fit(x_train_model, y_train)\n",
    "\n",
    "# memasukkan data test dan data train ke model\n",
    "ypred_elnet = np.concatenate((elnet_train.predict(x_train_model),elnet_train.predict(x_test_model)))\n",
    "yact_elnet = np.concatenate((y_train.values, y_test.values))\n",
    "\n",
    "# plotting\n",
    "df_elnet = pd.DataFrame(\n",
    "    {'period': data.index, 'actual': yact_elnet, 'prediction': ypred_elnet})\n",
    "df_elnet.index = df_elnet['period']\n",
    "fig, ax = plt.subplots(figsize = (15,9))\n",
    "ax.plot(df_elnet['actual'],label='actual')\n",
    "ax.plot(df_elnet['prediction'],label='prediction')\n",
    "ax.legend()\n",
    "ax.set_xlabel('Year')\n",
    "ax.set_ylabel('% INBRL')\n",
    "ax.set_title('Elastic Net')\n",
    "\n",
    "#rmse\n",
    "rmse_elnet_train = rmse(elnet_train.predict(x_train_model), y_train.values)\n",
    "rmse_elnet_test = rmse(elnet_train.predict(x_test_model),y_test.values)\n",
    "print('rmse training = ',\n",
    "      rmse_elnet_train, \n",
    "      '\\nrmse testing = ',\n",
    "      rmse_elnet_test)"
   ]
  },
  {
   "cell_type": "markdown",
   "metadata": {},
   "source": [
    "# XGboost"
   ]
  },
  {
   "cell_type": "code",
   "execution_count": 43,
   "metadata": {},
   "outputs": [],
   "source": [
    "max_depth = [int(x) for x in np.linspace(100, 500, num = 11)]\n",
    "parameter_xgb = {\n",
    "    \"xgb__eta\" : [0.05, 0.10, 0.15, 0.20, 0.25, 0.30 ] ,\n",
    "    'xgb__min_child_weight':[1,2,3,4,5], \n",
    "    'xgb__gamma':[i/10.0 for i in range(3,6)], \n",
    "    'xgb__subsample':[i/10.0 for i in range(6,11)], #sampling baris\n",
    "    'xgb__colsample_bytree':[i/10.0 for i in range(6,11)],  \n",
    "    'xgb__max_depth': max_depth,}\n",
    "\n",
    "#xgb = xg.XGBRegressor()\n",
    "\n",
    "#pipe_xgb = Pipeline([('xgb', xgb)])"
   ]
  },
  {
   "cell_type": "code",
   "execution_count": 44,
   "metadata": {},
   "outputs": [],
   "source": [
    "xgb = XGBRegressor()"
   ]
  },
  {
   "cell_type": "code",
   "execution_count": 45,
   "metadata": {},
   "outputs": [],
   "source": [
    "pipe_xgb = Pipeline([('xgb', xgb)])"
   ]
  },
  {
   "cell_type": "code",
   "execution_count": 46,
   "metadata": {},
   "outputs": [],
   "source": [
    "grid_search_xgb = GridSearchCV(pipe_xgb, parameter_xgb, cv=tscv, n_jobs=-1, scoring=rmse_score)\n",
    "grid_search_xgb.fit(x_train, y_train)\n",
    "best_score_xgb = grid_search_xgb.best_score_\n",
    "best_model_xgb = grid_search_xgb.best_estimator_"
   ]
  },
  {
   "cell_type": "code",
   "execution_count": 47,
   "metadata": {},
   "outputs": [
    {
     "data": {
      "text/plain": [
       "Pipeline(steps=[('xgb',\n",
       "                 XGBRegressor(base_score=0.5, booster='gbtree',\n",
       "                              colsample_bylevel=1, colsample_bynode=1,\n",
       "                              colsample_bytree=1.0, eta=0.3, gamma=0.3,\n",
       "                              gpu_id=-1, importance_type='gain',\n",
       "                              interaction_constraints='',\n",
       "                              learning_rate=0.300000012, max_delta_step=0,\n",
       "                              max_depth=100, min_child_weight=1, missing=nan,\n",
       "                              monotone_constraints='()', n_estimators=100,\n",
       "                              n_jobs=8, num_parallel_tree=1, random_state=0,\n",
       "                              reg_alpha=0, reg_lambda=1, scale_pos_weight=1,\n",
       "                              subsample=0.9, tree_method='exact',\n",
       "                              validate_parameters=1, verbosity=None))])"
      ]
     },
     "execution_count": 47,
     "metadata": {},
     "output_type": "execute_result"
    }
   ],
   "source": [
    "best_model_xgb"
   ]
  },
  {
   "cell_type": "code",
   "execution_count": 23,
   "metadata": {},
   "outputs": [],
   "source": [
    "xg = XGBRegressor(base_score=0.5, booster='gbtree',\n",
    "                              colsample_bylevel=1, colsample_bynode=1,\n",
    "                              colsample_bytree=1.0, eta=0.3, gamma=0.3,\n",
    "                              gpu_id=-1, importance_type='gain',\n",
    "                              interaction_constraints='',\n",
    "                              learning_rate=0.300000012, max_delta_step=0,\n",
    "                              max_depth=100, min_child_weight=1,\n",
    "                              monotone_constraints='()', n_estimators=100,\n",
    "                              n_jobs=8, num_parallel_tree=1, random_state=0,\n",
    "                              reg_alpha=0, reg_lambda=1, scale_pos_weight=1,\n",
    "                              subsample=0.9, tree_method='exact',\n",
    "                              validate_parameters=1, verbosity=None)\n",
    "xg_train = xg.fit(x_train_model, y_train)\n",
    "\n",
    "# memasukkan data test dan data train ke model\n",
    "ypred_xg = np.concatenate((xg_train.predict(x_train_model),xg_train.predict(x_test_model)))\n",
    "yact_xg = np.concatenate((y_train.values, y_test.values))"
   ]
  },
  {
   "cell_type": "code",
   "execution_count": 24,
   "metadata": {},
   "outputs": [
    {
     "name": "stdout",
     "output_type": "stream",
     "text": [
      "rmse training =  0.09858322003099568 \n",
      "rmse testing =  3.8181446244927053\n"
     ]
    },
    {
     "data": {
      "image/png": "[encoded data removed]",
      "text/plain": [
       "<Figure size 1080x648 with 1 Axes>"
      ]
     },
     "metadata": {
      "needs_background": "light"
     },
     "output_type": "display_data"
    }
   ],
   "source": [
    "df_xg = pd.DataFrame(\n",
    "    {'period': data.index, 'actual': yact_xg, 'prediction': ypred_xg})\n",
    "df_xg.index = df_xg['period']\n",
    "fig, ax = plt.subplots(figsize = (15,9))\n",
    "ax.plot(df_xg['actual'],label='actual')\n",
    "ax.plot(df_xg['prediction'],label='prediction')\n",
    "ax.legend()\n",
    "ax.set_xlabel('Year')\n",
    "ax.set_ylabel('% INHRL Growth')\n",
    "ax.set_title('XGBoost')\n",
    "\n",
    "#rmse\n",
    "rmse_xg_train = rmse(xg_train.predict(x_train_model), y_train.values)\n",
    "rmse_xg_test = rmse(xg_train.predict(x_test_model),y_test.values)\n",
    "print('rmse training = ',\n",
    "      rmse_xg_train, \n",
    "      '\\nrmse testing = ',\n",
    "      rmse_xg_test)"
   ]
  },
  {
   "cell_type": "markdown",
   "metadata": {},
   "source": [
    "# SVR"
   ]
  },
  {
   "cell_type": "code",
   "execution_count": 51,
   "metadata": {},
   "outputs": [],
   "source": [
    "parameter_svr = {\n",
    "    'svr__kernel' : ['linear', 'poly', 'rbf', 'sigmoid'],\n",
    "    'svr__degree' : [x for x in range(0,5)],\n",
    "    'svr__gamma' : ['scale', 'auto']\n",
    "}\n",
    "pipe_svr = Pipeline([('svr', SVR())])\n"
   ]
  },
  {
   "cell_type": "code",
   "execution_count": 52,
   "metadata": {},
   "outputs": [],
   "source": [
    "grid_search_svr = GridSearchCV(pipe_svr, parameter_svr, cv=tscv, n_jobs=-1, scoring=rmse_score)\n",
    "grid_search_svr.fit(x_train, y_train)\n",
    "best_score_svr = grid_search_svr.best_score_\n",
    "best_model_svr = grid_search_svr.best_estimator_"
   ]
  },
  {
   "cell_type": "code",
   "execution_count": 53,
   "metadata": {},
   "outputs": [
    {
     "data": {
      "text/plain": [
       "Pipeline(steps=[('svr', SVR(degree=0, kernel='linear'))])"
      ]
     },
     "execution_count": 53,
     "metadata": {},
     "output_type": "execute_result"
    }
   ],
   "source": [
    "best_model_svr"
   ]
  },
  {
   "cell_type": "code",
   "execution_count": 25,
   "metadata": {},
   "outputs": [],
   "source": [
    "# model running\n",
    "svm = SVR(degree=0, kernel='linear')\n",
    "svm_train = svm.fit(x_train_model, y_train)\n",
    "\n",
    "# memasukkan data test dan data train ke model\n",
    "ypred_svm = np.concatenate((svm_train.predict(x_train_model),svm_train.predict(x_test_model)))\n",
    "yact_svm = np.concatenate((y_train.values, y_test.values))"
   ]
  },
  {
   "cell_type": "code",
   "execution_count": 26,
   "metadata": {},
   "outputs": [
    {
     "name": "stdout",
     "output_type": "stream",
     "text": [
      "rmse training =  0.07681183424777678 \n",
      "rmse testing =  3.953027608106441\n"
     ]
    },
    {
     "data": {
      "image/png": "[encoded data removed]",
      "text/plain": [
       "<Figure size 1080x648 with 1 Axes>"
      ]
     },
     "metadata": {
      "needs_background": "light"
     },
     "output_type": "display_data"
    }
   ],
   "source": [
    "df_svm = pd.DataFrame(\n",
    "    {'period': data.index, 'actual': yact_svm, 'prediction': ypred_svm})\n",
    "df_svm.index = df_svm['period']\n",
    "fig, ax = plt.subplots(figsize = (15,9))\n",
    "ax.plot(df_svm['actual'],label='actual')\n",
    "ax.plot(df_svm['prediction'],label='prediction')\n",
    "ax.legend()\n",
    "ax.set_xlabel('Year')\n",
    "ax.set_ylabel('% INHRL Growth')\n",
    "ax.set_title('Support Vector Machine (SVM)')\n",
    "\n",
    "#rmse\n",
    "rmse_svm_train = rmse(svm_train.predict(x_train_model), y_train.values)\n",
    "rmse_svm_test = rmse(svm_train.predict(x_test_model),y_test.values)\n",
    "print('rmse training = ',\n",
    "      rmse_svm_train, \n",
    "      '\\nrmse testing = ',\n",
    "      rmse_svm_test)"
   ]
  },
  {
   "cell_type": "markdown",
   "metadata": {},
   "source": [
    "# Random Forest"
   ]
  },
  {
   "cell_type": "code",
   "execution_count": 27,
   "metadata": {},
   "outputs": [],
   "source": [
    "n_estimators = [int(x) for x in np.linspace(start = 200, stop = 2000, num = 10)]\n",
    "max_features = ['auto', 'sqrt']\n",
    "max_depth = [int(x) for x in np.linspace(100, 500, num = 11)]\n",
    "max_depth.append(None)\n",
    "parameter_rfr = {\n",
    "    'rfr__n_estimators': n_estimators,\n",
    "    'rfr__max_features': max_features,\n",
    "    'rfr__max_depth': max_depth\n",
    "}"
   ]
  },
  {
   "cell_type": "code",
   "execution_count": 28,
   "metadata": {},
   "outputs": [],
   "source": [
    "pipe_rfr = Pipeline([('rfr', RandomForestRegressor())])\n",
    "grid_search_rfr = GridSearchCV(pipe_rfr, parameter_rfr, cv=tscv, n_jobs=1, scoring=rmse_score)\n",
    "grid_search_rfr.fit(x_train, y_train)\n",
    "best_score_rfr = grid_search_rfr.best_score_\n",
    "best_model_rfr = grid_search_rfr.best_estimator_"
   ]
  },
  {
   "cell_type": "code",
   "execution_count": 29,
   "metadata": {},
   "outputs": [
    {
     "data": {
      "text/plain": [
       "Pipeline(steps=[('rfr',\n",
       "                 RandomForestRegressor(max_depth=100, n_estimators=200))])"
      ]
     },
     "execution_count": 29,
     "metadata": {},
     "output_type": "execute_result"
    }
   ],
   "source": [
    "best_model_rfr"
   ]
  },
  {
   "cell_type": "code",
   "execution_count": 30,
   "metadata": {},
   "outputs": [],
   "source": [
    "# model running\n",
    "rf = RandomForestRegressor(max_depth=100, n_estimators=200)\n",
    "rf_train = rf.fit(x_train_model, y_train)\n",
    "\n",
    "# memasukkan data test dan data train ke model\n",
    "ypred_rf = np.concatenate((rf_train.predict(x_train_model),rf_train.predict(x_test_model)))\n",
    "yact_rf = np.concatenate((y_train.values, y_test.values))"
   ]
  },
  {
   "cell_type": "code",
   "execution_count": 31,
   "metadata": {},
   "outputs": [
    {
     "name": "stdout",
     "output_type": "stream",
     "text": [
      "rmse training =  0.006853446898111426 \n",
      "rmse testing =  4.030153232499978\n"
     ]
    },
    {
     "data": {
      "image/png": "[encoded data removed]",
      "text/plain": [
       "<Figure size 1080x648 with 1 Axes>"
      ]
     },
     "metadata": {
      "needs_background": "light"
     },
     "output_type": "display_data"
    }
   ],
   "source": [
    "# plotting\n",
    "df_rf = pd.DataFrame(\n",
    "    {'period': data.index, 'actual': yact_rf, 'prediction': ypred_rf})\n",
    "df_rf.index = df_rf['period']\n",
    "fig, ax = plt.subplots(figsize = (15,9))\n",
    "ax.plot(df_rf['actual'],label='actual')\n",
    "ax.plot(df_rf['prediction'],label='prediction')\n",
    "ax.legend()\n",
    "ax.set_xlabel('Year')\n",
    "ax.set_ylabel('% GDP Growth')\n",
    "ax.set_title('Random Forest')\n",
    "\n",
    "#rmse\n",
    "rmse_rf_train = rmse(rf_train.predict(x_train_model), y_train.values)\n",
    "rmse_rf_test = rmse(rf_train.predict(x_test_model),y_test.values)\n",
    "print('rmse training = ',\n",
    "      rmse_rf_train, \n",
    "      '\\nrmse testing = ',\n",
    "      rmse_rf_test)"
   ]
  },
  {
   "cell_type": "code",
   "execution_count": 32,
   "metadata": {
    "scrolled": true
   },
   "outputs": [
    {
     "data": {
      "image/png": "[encoded data removed]",
      "text/plain": [
       "<Figure size 432x288 with 4 Axes>"
      ]
     },
     "metadata": {
      "needs_background": "light"
     },
     "output_type": "display_data"
    }
   ],
   "source": [
    "fig, axs = plt.subplots(2, 2)\n",
    "axs[0, 0].plot(yact_svm)\n",
    "axs[0, 0].plot(ypred_svm)\n",
    "axs[0, 0].set_title('SVR')\n",
    "axs[0, 1].plot(yact_rf)\n",
    "axs[0, 1].plot(ypred_rf)\n",
    "axs[0, 1].set_title('Random Forest')\n",
    "axs[1, 0].plot(yact_elnet)\n",
    "axs[1, 0].plot(ypred_elnet)\n",
    "axs[1, 0].set_title('Elastic Net')\n",
    "axs[1, 1].plot(yact_xg)\n",
    "axs[1, 1].plot(ypred_xg)\n",
    "axs[1, 1].set_title('XGBoost')\n",
    "\n",
    "for ax in axs.flat:\n",
    "    ax.set(xlabel='Year', ylabel='GDP')\n",
    "    \n",
    "for ax in axs.flat:\n",
    "    ax.label_outer()"
   ]
  },
  {
   "cell_type": "code",
   "execution_count": 33,
   "metadata": {},
   "outputs": [
    {
     "data": {
      "text/html": [
       "<div>\n",
       "<style scoped>\n",
       "    .dataframe tbody tr th:only-of-type {\n",
       "        vertical-align: middle;\n",
       "    }\n",
       "\n",
       "    .dataframe tbody tr th {\n",
       "        vertical-align: top;\n",
       "    }\n",
       "\n",
       "    .dataframe thead th {\n",
       "        text-align: right;\n",
       "    }\n",
       "</style>\n",
       "<table border=\"1\" class=\"dataframe\">\n",
       "  <thead>\n",
       "    <tr style=\"text-align: right;\">\n",
       "      <th></th>\n",
       "      <th>csplrl</th>\n",
       "      <th>invrl</th>\n",
       "      <th>mgsrl</th>\n",
       "      <th>inbrl</th>\n",
       "    </tr>\n",
       "    <tr>\n",
       "      <th>period</th>\n",
       "      <th></th>\n",
       "      <th></th>\n",
       "      <th></th>\n",
       "      <th></th>\n",
       "    </tr>\n",
       "  </thead>\n",
       "  <tbody>\n",
       "    <tr>\n",
       "      <th>2013-01-01</th>\n",
       "      <td>0.218741</td>\n",
       "      <td>0.421710</td>\n",
       "      <td>-0.073987</td>\n",
       "      <td>-0.176080</td>\n",
       "    </tr>\n",
       "    <tr>\n",
       "      <th>2013-02-01</th>\n",
       "      <td>0.218741</td>\n",
       "      <td>0.421710</td>\n",
       "      <td>-0.073987</td>\n",
       "      <td>-0.176080</td>\n",
       "    </tr>\n",
       "    <tr>\n",
       "      <th>2013-03-01</th>\n",
       "      <td>0.218741</td>\n",
       "      <td>0.421710</td>\n",
       "      <td>-0.073987</td>\n",
       "      <td>-0.176080</td>\n",
       "    </tr>\n",
       "    <tr>\n",
       "      <th>2013-04-01</th>\n",
       "      <td>-0.118069</td>\n",
       "      <td>-0.162072</td>\n",
       "      <td>-0.088466</td>\n",
       "      <td>-0.204023</td>\n",
       "    </tr>\n",
       "    <tr>\n",
       "      <th>2013-05-01</th>\n",
       "      <td>-0.118069</td>\n",
       "      <td>-0.162072</td>\n",
       "      <td>-0.088466</td>\n",
       "      <td>-0.204023</td>\n",
       "    </tr>\n",
       "    <tr>\n",
       "      <th>...</th>\n",
       "      <td>...</td>\n",
       "      <td>...</td>\n",
       "      <td>...</td>\n",
       "      <td>...</td>\n",
       "    </tr>\n",
       "    <tr>\n",
       "      <th>2020-09-01</th>\n",
       "      <td>-2.585811</td>\n",
       "      <td>-2.310400</td>\n",
       "      <td>0.100537</td>\n",
       "      <td>-0.404592</td>\n",
       "    </tr>\n",
       "    <tr>\n",
       "      <th>2020-10-01</th>\n",
       "      <td>-2.479593</td>\n",
       "      <td>-2.279549</td>\n",
       "      <td>0.027333</td>\n",
       "      <td>5.555025</td>\n",
       "    </tr>\n",
       "    <tr>\n",
       "      <th>2020-11-01</th>\n",
       "      <td>-2.479593</td>\n",
       "      <td>-2.279549</td>\n",
       "      <td>0.027333</td>\n",
       "      <td>5.555025</td>\n",
       "    </tr>\n",
       "    <tr>\n",
       "      <th>2020-12-01</th>\n",
       "      <td>-2.479593</td>\n",
       "      <td>-2.279549</td>\n",
       "      <td>0.027333</td>\n",
       "      <td>5.555025</td>\n",
       "    </tr>\n",
       "    <tr>\n",
       "      <th>2021-01-01</th>\n",
       "      <td>-3.500129</td>\n",
       "      <td>-4.473541</td>\n",
       "      <td>0.169220</td>\n",
       "      <td>-0.058826</td>\n",
       "    </tr>\n",
       "  </tbody>\n",
       "</table>\n",
       "<p>97 rows × 4 columns</p>\n",
       "</div>"
      ],
      "text/plain": [
       "              csplrl     invrl     mgsrl     inbrl\n",
       "period                                            \n",
       "2013-01-01  0.218741  0.421710 -0.073987 -0.176080\n",
       "2013-02-01  0.218741  0.421710 -0.073987 -0.176080\n",
       "2013-03-01  0.218741  0.421710 -0.073987 -0.176080\n",
       "2013-04-01 -0.118069 -0.162072 -0.088466 -0.204023\n",
       "2013-05-01 -0.118069 -0.162072 -0.088466 -0.204023\n",
       "...              ...       ...       ...       ...\n",
       "2020-09-01 -2.585811 -2.310400  0.100537 -0.404592\n",
       "2020-10-01 -2.479593 -2.279549  0.027333  5.555025\n",
       "2020-11-01 -2.479593 -2.279549  0.027333  5.555025\n",
       "2020-12-01 -2.479593 -2.279549  0.027333  5.555025\n",
       "2021-01-01 -3.500129 -4.473541  0.169220 -0.058826\n",
       "\n",
       "[97 rows x 4 columns]"
      ]
     },
     "execution_count": 33,
     "metadata": {},
     "output_type": "execute_result"
    }
   ],
   "source": [
    "data"
   ]
  }
 ],
 "metadata": {
  "kernelspec": {
   "display_name": "Python 3",
   "language": "python",
   "name": "python3"
  },
  "language_info": {
   "codemirror_mode": {
    "name": "ipython",
    "version": 3
   },
   "file_extension": ".py",
   "mimetype": "text/x-python",
   "name": "python",
   "nbconvert_exporter": "python",
   "pygments_lexer": "ipython3",
   "version": "3.8.5"
  }
 },
 "nbformat": 4,
 "nbformat_minor": 4
}
